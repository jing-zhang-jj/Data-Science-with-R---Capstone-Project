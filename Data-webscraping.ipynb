{
 "cells": [
  {
   "cell_type": "markdown",
   "metadata": {},
   "source": [
    "<center>\n",
    "<img src=\"https://cf-courses-data.s3.us.cloud-object-storage.appdomain.cloud/IBMDeveloperSkillsNetwork-RP0321EN-SkillsNetwork/labs/module_1/images/SN_web_lightmode.png\" width=\"300\"> \n",
    "</center>\n"
   ]
  },
  {
   "cell_type": "markdown",
   "metadata": {},
   "source": [
    "<h1>Web scrape a Global Bike-Sharing Systems Wiki Page</h1>\n",
    "\n",
    "Estimated time needed: **20** minutes\n"
   ]
  },
  {
   "cell_type": "markdown",
   "metadata": {},
   "source": [
    "## Lab Overview:\n",
    "\n",
    "Before getting your hands dirty on the actual data analysis tasks, you first need to obtain some background and context information about well-known bike sharing systems worldwide, such as their location, launch date, rental bike size, and so on.\n",
    "\n",
    "You can get such information from this Wiki page: \n",
    "\n",
    "https://en.wikipedia.org/wiki/List_of_bicycle-sharing_systems\n",
    "\n",
    "<a href=\"https://cognitiveclass.ai/?utm_medium=Exinfluencer&utm_source=Exinfluencer&utm_content=000026UJ&utm_term=10006555&utm_id=NA-SkillsNetwork-Channel-SkillsNetworkCoursesIBMDeveloperSkillsNetworkRP0321ENSkillsNetwork878-2022-01-01\">\n",
    "    <img src=\"https://cf-courses-data.s3.us.cloud-object-storage.appdomain.cloud/IBMDeveloperSkillsNetwork-RP0321EN-SkillsNetwork/labs/module_1/images/l2-list-bike-sharing-systems.png\" width=\"600\" align=\"center\">\n",
    "</a>\n"
   ]
  },
  {
   "cell_type": "markdown",
   "metadata": {},
   "source": [
    "First import necessary libraries for the webscraping task.\n"
   ]
  },
  {
   "cell_type": "markdown",
   "metadata": {},
   "source": [
    "\n",
    "In this lab, you need to use the `rvest` library to obtain the bike sharing systems table from the above web page, convert the table into a data frame, and write the data frame to a csv file for future data wrangling and analysis tasks.\n"
   ]
  },
  {
   "cell_type": "code",
   "execution_count": 1,
   "metadata": {},
   "outputs": [
    {
     "name": "stderr",
     "output_type": "stream",
     "text": [
      "Loading required package: rvest\n",
      "Loading required package: xml2\n"
     ]
    }
   ],
   "source": [
    "# Check if need to install rvest` library\n",
    "require(\"rvest\")\n",
    "\n",
    "library(rvest)"
   ]
  },
  {
   "cell_type": "markdown",
   "metadata": {},
   "source": [
    "# TASK: Extract bike sharing systems HTML table from a Wiki page and convert it into a data frame\n"
   ]
  },
  {
   "cell_type": "markdown",
   "metadata": {},
   "source": [
    "_TODO:_ Get the root HTML node\n"
   ]
  },
  {
   "cell_type": "code",
   "execution_count": 2,
   "metadata": {},
   "outputs": [
    {
     "data": {
      "text/plain": [
       "{html_document}\n",
       "<html class=\"client-nojs vector-feature-language-in-header-enabled vector-feature-language-in-main-page-header-disabled vector-feature-language-alert-in-sidebar-enabled vector-feature-sticky-header-disabled vector-feature-page-tools-disabled vector-feature-page-tools-pinned-disabled vector-feature-toc-pinned-enabled vector-feature-main-menu-pinned-disabled vector-feature-limited-width-enabled vector-feature-limited-width-content-enabled\" lang=\"en\" dir=\"ltr\">\n",
       "[1] <head>\\n<meta http-equiv=\"Content-Type\" content=\"text/html; charset=UTF-8 ...\n",
       "[2] <body class=\"skin-vector skin-vector-search-vue mediawiki ltr sitedir-ltr ..."
      ]
     },
     "metadata": {},
     "output_type": "display_data"
    },
    {
     "data": {
      "text/plain": [
       "{xml_nodeset (4)}\n",
       "[1] <table class=\"wikitable sortable\" style=\"text-align:left\"><tbody>\\n<tr>\\n ...\n",
       "[2] <table class=\"nowraplinks mw-collapsible autocollapse navbox-inner\" style ...\n",
       "[3] <table class=\"nowraplinks navbox-subgroup\" style=\"border-spacing:0\"><tbod ...\n",
       "[4] <table class=\"nowraplinks navbox-subgroup\" style=\"border-spacing:0\"><tbod ..."
      ]
     },
     "metadata": {},
     "output_type": "display_data"
    }
   ],
   "source": [
    "url <- \"https://en.wikipedia.org/wiki/List_of_bicycle-sharing_systems\"\n",
    "# Get the root HTML node by calling the `read_html()` method with URL\n",
    "root_node <- read_html(url)\n",
    "root_node\n",
    "table_nodes <- html_nodes(root_node, \"table\")\n",
    "table_nodes"
   ]
  },
  {
   "cell_type": "markdown",
   "metadata": {},
   "source": [
    "Note that this HTML page at least contains three child `<table>` nodes under the root HTML node. So, you will need to use `html_nodes(root_node, \"table\")` function to get all its child `<table>` nodes:\n",
    "\n",
    "```\n",
    "<html>\n",
    "  <table>(table1)</table>\n",
    "  <table>(table2)</table>\n",
    "  <table>(table3)</table>\n",
    "  ...\n",
    "</html>\n",
    "```\n"
   ]
  },
  {
   "cell_type": "markdown",
   "metadata": {},
   "source": [
    "table_nodes <- html_nodes(root_node, \"table\")\n"
   ]
  },
  {
   "cell_type": "markdown",
   "metadata": {},
   "source": [
    "You can use a `for` loop to print each table, and then you will see that the actual the bike sharing table is the first element `table_nodes[[1]]`.\n"
   ]
  },
  {
   "cell_type": "markdown",
   "metadata": {},
   "source": [
    "Next, you need to convert this HTML table into a data frame using the `html_table()` function. You may choose to include `fill = TRUE` argument to fill any empty table rows/columns.\n"
   ]
  },
  {
   "cell_type": "code",
   "execution_count": 3,
   "metadata": {},
   "outputs": [
    {
     "data": {
      "text/html": [
       "<table>\n",
       "<caption>A data.frame: 4 × 2</caption>\n",
       "<thead>\n",
       "\t<tr><th></th><th scope=col>X1</th><th scope=col>X2</th></tr>\n",
       "\t<tr><th></th><th scope=col>&lt;chr&gt;</th><th scope=col>&lt;chr&gt;</th></tr>\n",
       "</thead>\n",
       "<tbody>\n",
       "\t<tr><th scope=row>1</th><td>East Asia   </td><td>Anywheel (Singapore)\n",
       "CityBike (Kaohsiung, Taiwan)\n",
       "Ddareungi (Seoul, South Korea)\n",
       "Gobee.bike (Hong Kong)\n",
       "Hoba Bike (Hong Kong)\n",
       "Ketch' Up Bike (Hong Kong)\n",
       "Hangzhou Public Bicycle (Hangzhou, China)\n",
       "LinkBike (George Town, Penang, Malaysia)\n",
       "LocoBike (Hong Kong)\n",
       "Mobike (China and Singapore)\n",
       "Moov Technology (Singapore)\n",
       "ofo (China)\n",
       "SG Bike (Singapore)\n",
       "YouBike (Taiwan)</td></tr>\n",
       "\t<tr><th scope=row>2</th><td>South Asia  </td><td>JoBike (Bangladesh)\n",
       "Ola Pedal (India)\n",
       "Tiruchirappalli Bicycle Share (India)                                                                                                                                                                                                                                                                                                          </td></tr>\n",
       "\t<tr><th scope=row>3</th><td>West Asia   </td><td>Antbis (Antalya)\n",
       "Bdood (Tehran, Shiraz)\n",
       "Bisim (İzmir)\n",
       "Cyacle Bikeshare (Abu Dhabi)\n",
       "Esbis (Eskişehir)\n",
       "İsbike (Istanbul)\n",
       "Kaybis (Kayseri)\n",
       "Kobis (Kocaeli)\n",
       "nextbike (Konya)\n",
       "Sambis (Samsun)\n",
       "Tel-O-Fun (Tel Aviv)                                                                                                                                                                </td></tr>\n",
       "\t<tr><th scope=row>4</th><td>Central Asia</td><td>Astana Bike (Astana, Kazakhstan)                                                                                                                                                                                                                                                                                                                                                       </td></tr>\n",
       "</tbody>\n",
       "</table>\n"
      ],
      "text/latex": [
       "A data.frame: 4 × 2\n",
       "\\begin{tabular}{r|ll}\n",
       "  & X1 & X2\\\\\n",
       "  & <chr> & <chr>\\\\\n",
       "\\hline\n",
       "\t1 & East Asia    & Anywheel (Singapore)\n",
       "CityBike (Kaohsiung, Taiwan)\n",
       "Ddareungi (Seoul, South Korea)\n",
       "Gobee.bike (Hong Kong)\n",
       "Hoba Bike (Hong Kong)\n",
       "Ketch' Up Bike (Hong Kong)\n",
       "Hangzhou Public Bicycle (Hangzhou, China)\n",
       "LinkBike (George Town, Penang, Malaysia)\n",
       "LocoBike (Hong Kong)\n",
       "Mobike (China and Singapore)\n",
       "Moov Technology (Singapore)\n",
       "ofo (China)\n",
       "SG Bike (Singapore)\n",
       "YouBike (Taiwan)\\\\\n",
       "\t2 & South Asia   & JoBike (Bangladesh)\n",
       "Ola Pedal (India)\n",
       "Tiruchirappalli Bicycle Share (India)                                                                                                                                                                                                                                                                                                          \\\\\n",
       "\t3 & West Asia    & Antbis (Antalya)\n",
       "Bdood (Tehran, Shiraz)\n",
       "Bisim (İzmir)\n",
       "Cyacle Bikeshare (Abu Dhabi)\n",
       "Esbis (Eskişehir)\n",
       "İsbike (Istanbul)\n",
       "Kaybis (Kayseri)\n",
       "Kobis (Kocaeli)\n",
       "nextbike (Konya)\n",
       "Sambis (Samsun)\n",
       "Tel-O-Fun (Tel Aviv)                                                                                                                                                                \\\\\n",
       "\t4 & Central Asia & Astana Bike (Astana, Kazakhstan)                                                                                                                                                                                                                                                                                                                                                       \\\\\n",
       "\\end{tabular}\n"
      ],
      "text/markdown": [
       "\n",
       "A data.frame: 4 × 2\n",
       "\n",
       "| <!--/--> | X1 &lt;chr&gt; | X2 &lt;chr&gt; |\n",
       "|---|---|---|\n",
       "| 1 | East Asia    | Anywheel (Singapore)\n",
       "CityBike (Kaohsiung, Taiwan)\n",
       "Ddareungi (Seoul, South Korea)\n",
       "Gobee.bike (Hong Kong)\n",
       "Hoba Bike (Hong Kong)\n",
       "Ketch' Up Bike (Hong Kong)\n",
       "Hangzhou Public Bicycle (Hangzhou, China)\n",
       "LinkBike (George Town, Penang, Malaysia)\n",
       "LocoBike (Hong Kong)\n",
       "Mobike (China and Singapore)\n",
       "Moov Technology (Singapore)\n",
       "ofo (China)\n",
       "SG Bike (Singapore)\n",
       "YouBike (Taiwan) |\n",
       "| 2 | South Asia   | JoBike (Bangladesh)\n",
       "Ola Pedal (India)\n",
       "Tiruchirappalli Bicycle Share (India)                                                                                                                                                                                                                                                                                                           |\n",
       "| 3 | West Asia    | Antbis (Antalya)\n",
       "Bdood (Tehran, Shiraz)\n",
       "Bisim (İzmir)\n",
       "Cyacle Bikeshare (Abu Dhabi)\n",
       "Esbis (Eskişehir)\n",
       "İsbike (Istanbul)\n",
       "Kaybis (Kayseri)\n",
       "Kobis (Kocaeli)\n",
       "nextbike (Konya)\n",
       "Sambis (Samsun)\n",
       "Tel-O-Fun (Tel Aviv)                                                                                                                                                                 |\n",
       "| 4 | Central Asia | Astana Bike (Astana, Kazakhstan)                                                                                                                                                                                                                                                                                                                                                        |\n",
       "\n"
      ],
      "text/plain": [
       "  X1          \n",
       "1 East Asia   \n",
       "2 South Asia  \n",
       "3 West Asia   \n",
       "4 Central Asia\n",
       "  X2                                                                                                                                                                                                                                                                                                                                                                                     \n",
       "1 Anywheel (Singapore)\\nCityBike (Kaohsiung, Taiwan)\\nDdareungi (Seoul, South Korea)\\nGobee.bike (Hong Kong)\\nHoba Bike (Hong Kong)\\nKetch' Up Bike (Hong Kong)\\nHangzhou Public Bicycle (Hangzhou, China)\\nLinkBike (George Town, Penang, Malaysia)\\nLocoBike (Hong Kong)\\nMobike (China and Singapore)\\nMoov Technology (Singapore)\\nofo (China)\\nSG Bike (Singapore)\\nYouBike (Taiwan)\n",
       "2 JoBike (Bangladesh)\\nOla Pedal (India)\\nTiruchirappalli Bicycle Share (India)                                                                                                                                                                                                                                                                                                          \n",
       "3 Antbis (Antalya)\\nBdood (Tehran, Shiraz)\\nBisim (İzmir)\\nCyacle Bikeshare (Abu Dhabi)\\nEsbis (Eskişehir)\\nİsbike (Istanbul)\\nKaybis (Kayseri)\\nKobis (Kocaeli)\\nnextbike (Konya)\\nSambis (Samsun)\\nTel-O-Fun (Tel Aviv)                                                                                                                                                                \n",
       "4 Astana Bike (Astana, Kazakhstan)                                                                                                                                                                                                                                                                                                                                                       "
      ]
     },
     "metadata": {},
     "output_type": "display_data"
    }
   ],
   "source": [
    "# Convert the bike-sharing system table into a dataframe\n",
    "df <- html_table(table_nodes[[3]], fill = TRUE)\n",
    "head(df)"
   ]
  },
  {
   "cell_type": "markdown",
   "metadata": {},
   "source": [
    "Summarize the bike sharing system data frame\n"
   ]
  },
  {
   "cell_type": "code",
   "execution_count": 4,
   "metadata": {},
   "outputs": [
    {
     "data": {
      "text/plain": [
       "      X1                 X2           \n",
       " Length:4           Length:4          \n",
       " Class :character   Class :character  \n",
       " Mode  :character   Mode  :character  "
      ]
     },
     "metadata": {},
     "output_type": "display_data"
    }
   ],
   "source": [
    "# Summarize the dataframe\n",
    "summary(df)"
   ]
  },
  {
   "cell_type": "markdown",
   "metadata": {},
   "source": [
    "Export the data frame as a csv file called `raw_bike_sharing_systems.csv`\n"
   ]
  },
  {
   "cell_type": "code",
   "execution_count": 5,
   "metadata": {},
   "outputs": [
    {
     "name": "stdout",
     "output_type": "stream",
     "text": [
      "[1] \"/resources/labs/module_1/raw_bike_sharing_systems.csv\"\n"
     ]
    },
    {
     "data": {
      "text/html": [
       "TRUE"
      ],
      "text/latex": [
       "TRUE"
      ],
      "text/markdown": [
       "TRUE"
      ],
      "text/plain": [
       "[1] TRUE"
      ]
     },
     "metadata": {},
     "output_type": "display_data"
    }
   ],
   "source": [
    "# Export the dataframe into a csv file\n",
    "write.csv(df, \"raw_bike_sharing_systems.csv\")\n",
    "wd <- getwd()\n",
    "file_path <- paste(wd, sep=\"\", \"/raw_bike_sharing_systems.csv\")\n",
    "print(file_path)\n",
    "file.exists(file_path)"
   ]
  },
  {
   "cell_type": "markdown",
   "metadata": {},
   "source": [
    "For more details about webscraping with `rvest`, please refer to the previous webscraping notebook here:\n",
    "\n",
    "[Webscraping in R](https://cf-courses-data.s3.us.cloud-object-storage.appdomain.cloud/IBMDeveloperSkillsNetwork-RP0101EN-Coursera/v2/M4_Working_With_Data/lab3_jupyter_webscraping.ipynb)\n"
   ]
  },
  {
   "cell_type": "markdown",
   "metadata": {},
   "source": [
    "## Authors\n",
    "\n",
    "<a href=\"https://www.linkedin.com/in/yan-luo-96288783/?utm_medium=Exinfluencer&utm_source=Exinfluencer&utm_content=000026UJ&utm_term=10006555&utm_id=NA-SkillsNetwork-Channel-SkillsNetworkCoursesIBMDeveloperSkillsNetworkRP0321ENSkillsNetwork878-2022-01-01\" target=\"_blank\">Yan Luo</a>\n"
   ]
  },
  {
   "cell_type": "markdown",
   "metadata": {},
   "source": [
    "### Other Contributors\n"
   ]
  },
  {
   "cell_type": "markdown",
   "metadata": {},
   "source": [
    "## Change Log\n",
    "\n",
    "| Date (YYYY-MM-DD) | Version | Changed By | Change Description           |\n",
    "| ----------------- | ------- | ---------- | ---------------------------- |\n",
    "| 2021-04-05        | 0.1     | Yan        | Initial version created      |\n",
    "|                   |         |            |                              |\n",
    "|                   |         |            |                              |\n",
    "\n",
    "## <h3 align=\"center\"> © IBM Corporation 2021. All rights reserved. <h3/>\n"
   ]
  }
 ],
 "metadata": {
  "kernelspec": {
   "display_name": "R",
   "language": "R",
   "name": "conda-env-r-r"
  },
  "language_info": {
   "codemirror_mode": "r",
   "file_extension": ".r",
   "mimetype": "text/x-r-source",
   "name": "R",
   "pygments_lexer": "r",
   "version": "3.5.1"
  }
 },
 "nbformat": 4,
 "nbformat_minor": 4
}
