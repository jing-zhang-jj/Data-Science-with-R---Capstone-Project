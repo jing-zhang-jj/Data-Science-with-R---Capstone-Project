{
 "cells": [
  {
   "cell_type": "markdown",
   "metadata": {},
   "source": [
    "<center>\n",
    "<img src=\"https://cf-courses-data.s3.us.cloud-object-storage.appdomain.cloud/IBMDeveloperSkillsNetwork-RP0321EN-SkillsNetwork/labs/module_1/images/SN_web_lightmode.png\" width=\"300\"> \n",
    "</center>\n",
    "\n",
    "# Assignment: Exploratory Data Analysis with SQL\n",
    "Estimated time needed: 60 minutes\n",
    "\n",
    "\n",
    "# Introduction\n",
    "Using this R notebook you will perform exploratory data analysis tasks using SQL queries with the RODBC R package. You will not be graded here, but you will be asked to present some of these results in your final assignment, where you will be graded on the accuracy of your results as well as the content of your SQL queries.\n"
   ]
  },
  {
   "cell_type": "markdown",
   "metadata": {},
   "source": [
    "### Establish your Db2 connection\n",
    "Load the 'RODBC' library, and use the 'odbcConnect( )' function as you did in the previous lab to establish the connection to your Db2 assets.  \n",
    "Provided you successfully loaded your data into the tables in that lab, you are now ready to start running SQL queries using the RODBC library as you did in Course 3.\n"
   ]
  },
  {
   "cell_type": "code",
   "execution_count": 1,
   "metadata": {},
   "outputs": [],
   "source": [
    "# provide your solution here"
   ]
  },
  {
   "cell_type": "code",
   "execution_count": 2,
   "metadata": {},
   "outputs": [],
   "source": [
    "library(RODBC);"
   ]
  },
  {
   "cell_type": "code",
   "execution_count": 3,
   "metadata": {},
   "outputs": [
    {
     "data": {
      "text/plain": [
       "RODBC Connection 1\n",
       "Details:\n",
       "  case=nochange\n",
       "  DRIVER={IBM DB2 ODBC DRIVER}\n",
       "  UID=hdh06323\n",
       "  PWD=******\n",
       "  DATABASE=bludb\n",
       "  HOSTNAME=815fa4db-dc03-4c70-869a-a9cc13f33084.bs2io90l08kqb1od8lcg.databases.appdomain.cloud\n",
       "  PORT=30367\n",
       "  PROTOCOL=TCPIP\n",
       "  SECURITY=SSL"
      ]
     },
     "metadata": {},
     "output_type": "display_data"
    }
   ],
   "source": [
    "# Establish database connection\n",
    "dsn_driver <- \"{IBM DB2 ODBC Driver}\"\n",
    "dsn_database <- \"bludb\"            # e.g. \"bludb\"\n",
    "dsn_hostname <- \"815fa4db-dc03-4c70-869a-a9cc13f33084.bs2io90l08kqb1od8lcg.databases.appdomain.cloud\" # e.g \"54a2f15b-5c0f-46df-8954-.databases.appdomain.cloud\"\n",
    "dsn_port <- \"30367\"   # e.g. \"32733\" \n",
    "dsn_protocol <- \"TCPIP\"            # i.e. \"TCPIP\"\n",
    "dsn_uid <- \"hdh06323\"        # e.g. \"zjh17769\"\n",
    "dsn_pwd <- \"WZf8AIw179305QUb\"      # e.g. \"zcwd4+8gbq9bm5k4\"  \n",
    "dsn_security <- \"ssl\"\n",
    "\n",
    "conn_path <- paste(\"DRIVER=\",dsn_driver,\n",
    "                   \";DATABASE=\",dsn_database,\n",
    "                   \";HOSTNAME=\",dsn_hostname,\n",
    "                   \";PORT=\",dsn_port,\n",
    "                   \";PROTOCOL=\",dsn_protocol,\n",
    "                   \";UID=\",dsn_uid,\n",
    "                   \";PWD=\",dsn_pwd,\n",
    "                   \";SECURITY=\",dsn_security,        \n",
    "                   sep=\"\")\n",
    "\n",
    "conn <- odbcDriverConnect(conn_path)\n",
    "conn "
   ]
  },
  {
   "cell_type": "code",
   "execution_count": 4,
   "metadata": {},
   "outputs": [
    {
     "data": {
      "text/html": [
       "<strong>DBMS_Name:</strong> 'DB2/LINUXX8664'"
      ],
      "text/latex": [
       "\\textbf{DBMS\\textbackslash{}\\_Name:} 'DB2/LINUXX8664'"
      ],
      "text/markdown": [
       "**DBMS_Name:** 'DB2/LINUXX8664'"
      ],
      "text/plain": [
       "       DBMS_Name \n",
       "\"DB2/LINUXX8664\" "
      ]
     },
     "metadata": {},
     "output_type": "display_data"
    },
    {
     "data": {
      "text/html": [
       "<strong>DBMS_Ver:</strong> '11.05.0800'"
      ],
      "text/latex": [
       "\\textbf{DBMS\\textbackslash{}\\_Ver:} '11.05.0800'"
      ],
      "text/markdown": [
       "**DBMS_Ver:** '11.05.0800'"
      ],
      "text/plain": [
       "    DBMS_Ver \n",
       "\"11.05.0800\" "
      ]
     },
     "metadata": {},
     "output_type": "display_data"
    },
    {
     "data": {
      "text/html": [
       "<strong>Driver_ODBC_Ver:</strong> '03.51'"
      ],
      "text/latex": [
       "\\textbf{Driver\\textbackslash{}\\_ODBC\\textbackslash{}\\_Ver:} '03.51'"
      ],
      "text/markdown": [
       "**Driver_ODBC_Ver:** '03.51'"
      ],
      "text/plain": [
       "Driver_ODBC_Ver \n",
       "        \"03.51\" "
      ]
     },
     "metadata": {},
     "output_type": "display_data"
    }
   ],
   "source": [
    "sql.info <- sqlTypeInfo(conn)\n",
    "conn.info <- odbcGetInfo(conn)\n",
    "conn.info[\"DBMS_Name\"]\n",
    "conn.info[\"DBMS_Ver\"]\n",
    "conn.info[\"Driver_ODBC_Ver\"]"
   ]
  },
  {
   "cell_type": "code",
   "execution_count": 5,
   "metadata": {},
   "outputs": [
    {
     "data": {
      "text/html": [
       "0"
      ],
      "text/latex": [
       "0"
      ],
      "text/markdown": [
       "0"
      ],
      "text/plain": [
       "[1] 0"
      ]
     },
     "metadata": {},
     "output_type": "display_data"
    },
    {
     "data": {
      "text/html": [],
      "text/latex": [],
      "text/markdown": [],
      "text/plain": [
       "character(0)"
      ]
     },
     "metadata": {},
     "output_type": "display_data"
    }
   ],
   "source": [
    "tab.frame <- sqlTables(conn,schema='DVT13187')\n",
    "nrow(tab.frame)\n",
    "tab.frame$TABLE_NAME"
   ]
  },
  {
   "cell_type": "markdown",
   "metadata": {},
   "source": [
    "\n",
    "## Task 1 - Record Count\n",
    "#### Determine how many records are in the seoul_bike_sharing dataset.\n"
   ]
  },
  {
   "cell_type": "markdown",
   "metadata": {},
   "source": [
    "### Solution 1\n"
   ]
  },
  {
   "cell_type": "code",
   "execution_count": 6,
   "metadata": {},
   "outputs": [
    {
     "data": {
      "text/html": [
       "<table>\n",
       "<caption>A data.frame: 1 × 1</caption>\n",
       "<thead>\n",
       "\t<tr><th></th><th scope=col>1</th></tr>\n",
       "\t<tr><th></th><th scope=col>&lt;int&gt;</th></tr>\n",
       "</thead>\n",
       "<tbody>\n",
       "\t<tr><th scope=row>1</th><td>8465</td></tr>\n",
       "</tbody>\n",
       "</table>\n"
      ],
      "text/latex": [
       "A data.frame: 1 × 1\n",
       "\\begin{tabular}{r|l}\n",
       "  & 1\\\\\n",
       "  & <int>\\\\\n",
       "\\hline\n",
       "\t1 & 8465\\\\\n",
       "\\end{tabular}\n"
      ],
      "text/markdown": [
       "\n",
       "A data.frame: 1 × 1\n",
       "\n",
       "| <!--/--> | 1 &lt;int&gt; |\n",
       "|---|---|\n",
       "| 1 | 8465 |\n",
       "\n"
      ],
      "text/plain": [
       "  1   \n",
       "1 8465"
      ]
     },
     "metadata": {},
     "output_type": "display_data"
    }
   ],
   "source": [
    "# provide your solution here\n",
    "query = \"SELECT count(*) FROM seoul_bike_sharing dataset\"\n",
    "    sqlQuery(conn,query)"
   ]
  },
  {
   "cell_type": "markdown",
   "metadata": {},
   "source": [
    "## Task 2 - Operational Hours\n",
    "#### Determine how many hours had non-zero rented bike count.\n"
   ]
  },
  {
   "cell_type": "markdown",
   "metadata": {},
   "source": [
    "### Solution 2\n"
   ]
  },
  {
   "cell_type": "code",
   "execution_count": 7,
   "metadata": {},
   "outputs": [
    {
     "data": {
      "text/html": [
       "<table>\n",
       "<caption>A data.frame: 1 × 1</caption>\n",
       "<thead>\n",
       "\t<tr><th></th><th scope=col>1</th></tr>\n",
       "\t<tr><th></th><th scope=col>&lt;int&gt;</th></tr>\n",
       "</thead>\n",
       "<tbody>\n",
       "\t<tr><th scope=row>1</th><td>8113</td></tr>\n",
       "</tbody>\n",
       "</table>\n"
      ],
      "text/latex": [
       "A data.frame: 1 × 1\n",
       "\\begin{tabular}{r|l}\n",
       "  & 1\\\\\n",
       "  & <int>\\\\\n",
       "\\hline\n",
       "\t1 & 8113\\\\\n",
       "\\end{tabular}\n"
      ],
      "text/markdown": [
       "\n",
       "A data.frame: 1 × 1\n",
       "\n",
       "| <!--/--> | 1 &lt;int&gt; |\n",
       "|---|---|\n",
       "| 1 | 8113 |\n",
       "\n"
      ],
      "text/plain": [
       "  1   \n",
       "1 8113"
      ]
     },
     "metadata": {},
     "output_type": "display_data"
    }
   ],
   "source": [
    "# provide your solution here\n",
    "query = \"SELECT COUNT(HOUR) FROM seoul_bike_sharing dataset \n",
    "         WHERE HOUR >0\"\n",
    "    sqlQuery(conn,query)"
   ]
  },
  {
   "cell_type": "markdown",
   "metadata": {},
   "source": [
    "## Task 3 - Weather Outlook\n",
    "#### Query the the weather forecast for Seoul over the next 3 hours.\n",
    "Recall that the records in the CITIES_WEATHER_FORECAST dataset are 3 hours apart, so we just need the first record from the query.\n"
   ]
  },
  {
   "cell_type": "markdown",
   "metadata": {},
   "source": [
    "### Solution 3\n"
   ]
  },
  {
   "cell_type": "code",
   "execution_count": 8,
   "metadata": {},
   "outputs": [
    {
     "data": {
      "text/html": [
       "<table>\n",
       "<caption>A data.frame: 1 × 12</caption>\n",
       "<thead>\n",
       "\t<tr><th></th><th scope=col>CITY</th><th scope=col>WEATHER</th><th scope=col>VISIBILITY</th><th scope=col>TEMP</th><th scope=col>TEMP_MIN</th><th scope=col>TEMP_MAX</th><th scope=col>PRESSURE</th><th scope=col>HUMIDITY</th><th scope=col>WIND_SPEED</th><th scope=col>WIND_DEG</th><th scope=col>SEASON</th><th scope=col>FORECAST_DATETIME</th></tr>\n",
       "\t<tr><th></th><th scope=col>&lt;fct&gt;</th><th scope=col>&lt;fct&gt;</th><th scope=col>&lt;int&gt;</th><th scope=col>&lt;dbl&gt;</th><th scope=col>&lt;dbl&gt;</th><th scope=col>&lt;dbl&gt;</th><th scope=col>&lt;int&gt;</th><th scope=col>&lt;int&gt;</th><th scope=col>&lt;dbl&gt;</th><th scope=col>&lt;int&gt;</th><th scope=col>&lt;fct&gt;</th><th scope=col>&lt;dttm&gt;</th></tr>\n",
       "</thead>\n",
       "<tbody>\n",
       "\t<tr><th scope=row>1</th><td>Seoul</td><td>Clear</td><td>10000</td><td>12.32</td><td>10.91</td><td>12.32</td><td>1015</td><td>50</td><td>2.18</td><td>248</td><td>Spring</td><td>2021-04-16 12:00:00</td></tr>\n",
       "</tbody>\n",
       "</table>\n"
      ],
      "text/latex": [
       "A data.frame: 1 × 12\n",
       "\\begin{tabular}{r|llllllllllll}\n",
       "  & CITY & WEATHER & VISIBILITY & TEMP & TEMP\\_MIN & TEMP\\_MAX & PRESSURE & HUMIDITY & WIND\\_SPEED & WIND\\_DEG & SEASON & FORECAST\\_DATETIME\\\\\n",
       "  & <fct> & <fct> & <int> & <dbl> & <dbl> & <dbl> & <int> & <int> & <dbl> & <int> & <fct> & <dttm>\\\\\n",
       "\\hline\n",
       "\t1 & Seoul & Clear & 10000 & 12.32 & 10.91 & 12.32 & 1015 & 50 & 2.18 & 248 & Spring & 2021-04-16 12:00:00\\\\\n",
       "\\end{tabular}\n"
      ],
      "text/markdown": [
       "\n",
       "A data.frame: 1 × 12\n",
       "\n",
       "| <!--/--> | CITY &lt;fct&gt; | WEATHER &lt;fct&gt; | VISIBILITY &lt;int&gt; | TEMP &lt;dbl&gt; | TEMP_MIN &lt;dbl&gt; | TEMP_MAX &lt;dbl&gt; | PRESSURE &lt;int&gt; | HUMIDITY &lt;int&gt; | WIND_SPEED &lt;dbl&gt; | WIND_DEG &lt;int&gt; | SEASON &lt;fct&gt; | FORECAST_DATETIME &lt;dttm&gt; |\n",
       "|---|---|---|---|---|---|---|---|---|---|---|---|---|\n",
       "| 1 | Seoul | Clear | 10000 | 12.32 | 10.91 | 12.32 | 1015 | 50 | 2.18 | 248 | Spring | 2021-04-16 12:00:00 |\n",
       "\n"
      ],
      "text/plain": [
       "  CITY  WEATHER VISIBILITY TEMP  TEMP_MIN TEMP_MAX PRESSURE HUMIDITY WIND_SPEED\n",
       "1 Seoul Clear   10000      12.32 10.91    12.32    1015     50       2.18      \n",
       "  WIND_DEG SEASON FORECAST_DATETIME  \n",
       "1 248      Spring 2021-04-16 12:00:00"
      ]
     },
     "metadata": {},
     "output_type": "display_data"
    }
   ],
   "source": [
    "# provide your solution here\n",
    "query = \"SELECT * FROM CITIES_WEATHER_FORECAST LIMIT 1  \"\n",
    "    sqlQuery(conn,query)"
   ]
  },
  {
   "cell_type": "markdown",
   "metadata": {},
   "source": [
    "## Task 4 - Seasons\n",
    "#### Find which seasons are included in the seoul bike sharing dataset.\n"
   ]
  },
  {
   "cell_type": "markdown",
   "metadata": {},
   "source": [
    "### Solution 4\n"
   ]
  },
  {
   "cell_type": "code",
   "execution_count": 9,
   "metadata": {},
   "outputs": [
    {
     "data": {
      "text/html": [
       "<table>\n",
       "<caption>A data.frame: 4 × 1</caption>\n",
       "<thead>\n",
       "\t<tr><th></th><th scope=col>SEASONS</th></tr>\n",
       "\t<tr><th></th><th scope=col>&lt;fct&gt;</th></tr>\n",
       "</thead>\n",
       "<tbody>\n",
       "\t<tr><th scope=row>1</th><td>Autumn</td></tr>\n",
       "\t<tr><th scope=row>2</th><td>Spring</td></tr>\n",
       "\t<tr><th scope=row>3</th><td>Summer</td></tr>\n",
       "\t<tr><th scope=row>4</th><td>Winter</td></tr>\n",
       "</tbody>\n",
       "</table>\n"
      ],
      "text/latex": [
       "A data.frame: 4 × 1\n",
       "\\begin{tabular}{r|l}\n",
       "  & SEASONS\\\\\n",
       "  & <fct>\\\\\n",
       "\\hline\n",
       "\t1 & Autumn\\\\\n",
       "\t2 & Spring\\\\\n",
       "\t3 & Summer\\\\\n",
       "\t4 & Winter\\\\\n",
       "\\end{tabular}\n"
      ],
      "text/markdown": [
       "\n",
       "A data.frame: 4 × 1\n",
       "\n",
       "| <!--/--> | SEASONS &lt;fct&gt; |\n",
       "|---|---|\n",
       "| 1 | Autumn |\n",
       "| 2 | Spring |\n",
       "| 3 | Summer |\n",
       "| 4 | Winter |\n",
       "\n"
      ],
      "text/plain": [
       "  SEASONS\n",
       "1 Autumn \n",
       "2 Spring \n",
       "3 Summer \n",
       "4 Winter "
      ]
     },
     "metadata": {},
     "output_type": "display_data"
    }
   ],
   "source": [
    "# provide your solution here\n",
    "query = \"SELECT DISTINCT(SEASONS) FROM seoul_bike_sharing dataset  \"\n",
    "    sqlQuery(conn,query)"
   ]
  },
  {
   "cell_type": "markdown",
   "metadata": {},
   "source": [
    "## Task 5 - Date Range\n",
    "#### Find the first and last dates in the Seoul Bike Sharing dataset.\n"
   ]
  },
  {
   "cell_type": "markdown",
   "metadata": {},
   "source": [
    "### Solution 5\n"
   ]
  },
  {
   "cell_type": "code",
   "execution_count": 10,
   "metadata": {},
   "outputs": [
    {
     "data": {
      "text/html": [
       "<table>\n",
       "<caption>A data.frame: 1 × 2</caption>\n",
       "<thead>\n",
       "\t<tr><th></th><th scope=col>FIRST_DATE</th><th scope=col>LAST_DATE</th></tr>\n",
       "\t<tr><th></th><th scope=col>&lt;fct&gt;</th><th scope=col>&lt;fct&gt;</th></tr>\n",
       "</thead>\n",
       "<tbody>\n",
       "\t<tr><th scope=row>1</th><td>31/12/2017</td><td>01/01/2018</td></tr>\n",
       "</tbody>\n",
       "</table>\n"
      ],
      "text/latex": [
       "A data.frame: 1 × 2\n",
       "\\begin{tabular}{r|ll}\n",
       "  & FIRST\\_DATE & LAST\\_DATE\\\\\n",
       "  & <fct> & <fct>\\\\\n",
       "\\hline\n",
       "\t1 & 31/12/2017 & 01/01/2018\\\\\n",
       "\\end{tabular}\n"
      ],
      "text/markdown": [
       "\n",
       "A data.frame: 1 × 2\n",
       "\n",
       "| <!--/--> | FIRST_DATE &lt;fct&gt; | LAST_DATE &lt;fct&gt; |\n",
       "|---|---|---|\n",
       "| 1 | 31/12/2017 | 01/01/2018 |\n",
       "\n"
      ],
      "text/plain": [
       "  FIRST_DATE LAST_DATE \n",
       "1 31/12/2017 01/01/2018"
      ]
     },
     "metadata": {},
     "output_type": "display_data"
    }
   ],
   "source": [
    "# provide your solution here\n",
    "query = \"SELECT MAX(DATE) as First_date, MIN(DATE) as Last_date FROM seoul_bike_sharing dataset\n",
    "        \"\n",
    "    sqlQuery(conn,query)"
   ]
  },
  {
   "cell_type": "markdown",
   "metadata": {},
   "source": [
    "## Task 6 - Subquery - 'all-time high'\n",
    "#### determine which date and hour had the most bike rentals.\n"
   ]
  },
  {
   "cell_type": "markdown",
   "metadata": {},
   "source": [
    "### Solution 6\n"
   ]
  },
  {
   "cell_type": "code",
   "execution_count": 11,
   "metadata": {},
   "outputs": [
    {
     "data": {
      "text/html": [
       "<table>\n",
       "<caption>A data.frame: 1 × 3</caption>\n",
       "<thead>\n",
       "\t<tr><th></th><th scope=col>DATE</th><th scope=col>HOUR</th><th scope=col>RENTED_BIKE_COUNT</th></tr>\n",
       "\t<tr><th></th><th scope=col>&lt;fct&gt;</th><th scope=col>&lt;int&gt;</th><th scope=col>&lt;int&gt;</th></tr>\n",
       "</thead>\n",
       "<tbody>\n",
       "\t<tr><th scope=row>1</th><td>19/06/2018</td><td>18</td><td>3556</td></tr>\n",
       "</tbody>\n",
       "</table>\n"
      ],
      "text/latex": [
       "A data.frame: 1 × 3\n",
       "\\begin{tabular}{r|lll}\n",
       "  & DATE & HOUR & RENTED\\_BIKE\\_COUNT\\\\\n",
       "  & <fct> & <int> & <int>\\\\\n",
       "\\hline\n",
       "\t1 & 19/06/2018 & 18 & 3556\\\\\n",
       "\\end{tabular}\n"
      ],
      "text/markdown": [
       "\n",
       "A data.frame: 1 × 3\n",
       "\n",
       "| <!--/--> | DATE &lt;fct&gt; | HOUR &lt;int&gt; | RENTED_BIKE_COUNT &lt;int&gt; |\n",
       "|---|---|---|---|\n",
       "| 1 | 19/06/2018 | 18 | 3556 |\n",
       "\n"
      ],
      "text/plain": [
       "  DATE       HOUR RENTED_BIKE_COUNT\n",
       "1 19/06/2018 18   3556             "
      ]
     },
     "metadata": {},
     "output_type": "display_data"
    }
   ],
   "source": [
    "# provide your solution here\n",
    "query = \"SELECT DATE, HOUR, RENTED_BIKE_COUNT FROM seoul_bike_sharing dataset\n",
    "         ORDER BY RENTED_BIKE_COUNT DESC LIMIT 1\n",
    "        \"\n",
    "    sqlQuery(conn,query)"
   ]
  },
  {
   "cell_type": "markdown",
   "metadata": {},
   "source": [
    "## Task 7 - Hourly popularity and temperature by season\n",
    "#### Determine the average hourly temperature and the average number of bike rentals per hour over each season. List the top ten results by average bike count.\n"
   ]
  },
  {
   "cell_type": "markdown",
   "metadata": {},
   "source": [
    "### Solution 7\n"
   ]
  },
  {
   "cell_type": "code",
   "execution_count": 12,
   "metadata": {},
   "outputs": [
    {
     "data": {
      "text/html": [
       "<table>\n",
       "<caption>A data.frame: 10 × 3</caption>\n",
       "<thead>\n",
       "\t<tr><th></th><th scope=col>HOUR_AUTUMN</th><th scope=col>AVG_TEMPERATURE</th><th scope=col>AVG_RENTED_BIKE_COUNT</th></tr>\n",
       "\t<tr><th></th><th scope=col>&lt;int&gt;</th><th scope=col>&lt;dbl&gt;</th><th scope=col>&lt;int&gt;</th></tr>\n",
       "</thead>\n",
       "<tbody>\n",
       "\t<tr><th scope=row>1</th><td>18</td><td>16.03086</td><td>1983</td></tr>\n",
       "\t<tr><th scope=row>2</th><td>17</td><td>17.27778</td><td>1562</td></tr>\n",
       "\t<tr><th scope=row>3</th><td>19</td><td>15.06049</td><td>1515</td></tr>\n",
       "\t<tr><th scope=row>4</th><td> 8</td><td>10.55679</td><td>1345</td></tr>\n",
       "\t<tr><th scope=row>5</th><td>20</td><td>14.32469</td><td>1321</td></tr>\n",
       "\t<tr><th scope=row>6</th><td>16</td><td>18.08025</td><td>1293</td></tr>\n",
       "\t<tr><th scope=row>7</th><td>21</td><td>13.69012</td><td>1253</td></tr>\n",
       "\t<tr><th scope=row>8</th><td>15</td><td>18.34321</td><td>1156</td></tr>\n",
       "\t<tr><th scope=row>9</th><td>22</td><td>13.09012</td><td>1130</td></tr>\n",
       "\t<tr><th scope=row>10</th><td>14</td><td>18.15185</td><td>1058</td></tr>\n",
       "</tbody>\n",
       "</table>\n"
      ],
      "text/latex": [
       "A data.frame: 10 × 3\n",
       "\\begin{tabular}{r|lll}\n",
       "  & HOUR\\_AUTUMN & AVG\\_TEMPERATURE & AVG\\_RENTED\\_BIKE\\_COUNT\\\\\n",
       "  & <int> & <dbl> & <int>\\\\\n",
       "\\hline\n",
       "\t1 & 18 & 16.03086 & 1983\\\\\n",
       "\t2 & 17 & 17.27778 & 1562\\\\\n",
       "\t3 & 19 & 15.06049 & 1515\\\\\n",
       "\t4 &  8 & 10.55679 & 1345\\\\\n",
       "\t5 & 20 & 14.32469 & 1321\\\\\n",
       "\t6 & 16 & 18.08025 & 1293\\\\\n",
       "\t7 & 21 & 13.69012 & 1253\\\\\n",
       "\t8 & 15 & 18.34321 & 1156\\\\\n",
       "\t9 & 22 & 13.09012 & 1130\\\\\n",
       "\t10 & 14 & 18.15185 & 1058\\\\\n",
       "\\end{tabular}\n"
      ],
      "text/markdown": [
       "\n",
       "A data.frame: 10 × 3\n",
       "\n",
       "| <!--/--> | HOUR_AUTUMN &lt;int&gt; | AVG_TEMPERATURE &lt;dbl&gt; | AVG_RENTED_BIKE_COUNT &lt;int&gt; |\n",
       "|---|---|---|---|\n",
       "| 1 | 18 | 16.03086 | 1983 |\n",
       "| 2 | 17 | 17.27778 | 1562 |\n",
       "| 3 | 19 | 15.06049 | 1515 |\n",
       "| 4 |  8 | 10.55679 | 1345 |\n",
       "| 5 | 20 | 14.32469 | 1321 |\n",
       "| 6 | 16 | 18.08025 | 1293 |\n",
       "| 7 | 21 | 13.69012 | 1253 |\n",
       "| 8 | 15 | 18.34321 | 1156 |\n",
       "| 9 | 22 | 13.09012 | 1130 |\n",
       "| 10 | 14 | 18.15185 | 1058 |\n",
       "\n"
      ],
      "text/plain": [
       "   HOUR_AUTUMN AVG_TEMPERATURE AVG_RENTED_BIKE_COUNT\n",
       "1  18          16.03086        1983                 \n",
       "2  17          17.27778        1562                 \n",
       "3  19          15.06049        1515                 \n",
       "4   8          10.55679        1345                 \n",
       "5  20          14.32469        1321                 \n",
       "6  16          18.08025        1293                 \n",
       "7  21          13.69012        1253                 \n",
       "8  15          18.34321        1156                 \n",
       "9  22          13.09012        1130                 \n",
       "10 14          18.15185        1058                 "
      ]
     },
     "metadata": {},
     "output_type": "display_data"
    },
    {
     "data": {
      "text/html": [
       "<table>\n",
       "<caption>A data.frame: 10 × 3</caption>\n",
       "<thead>\n",
       "\t<tr><th></th><th scope=col>HOUR__SPRING</th><th scope=col>AVG_TEMPERATURE</th><th scope=col>AVG_RENTED_BIKE_COUNT</th></tr>\n",
       "\t<tr><th></th><th scope=col>&lt;int&gt;</th><th scope=col>&lt;dbl&gt;</th><th scope=col>&lt;int&gt;</th></tr>\n",
       "</thead>\n",
       "<tbody>\n",
       "\t<tr><th scope=row>1</th><td>18</td><td>15.97222</td><td>1689</td></tr>\n",
       "\t<tr><th scope=row>2</th><td>17</td><td>16.87889</td><td>1307</td></tr>\n",
       "\t<tr><th scope=row>3</th><td>19</td><td>14.67667</td><td>1247</td></tr>\n",
       "\t<tr><th scope=row>4</th><td>16</td><td>17.35889</td><td>1101</td></tr>\n",
       "\t<tr><th scope=row>5</th><td>20</td><td>13.57444</td><td>1060</td></tr>\n",
       "\t<tr><th scope=row>6</th><td> 8</td><td>10.30778</td><td>1036</td></tr>\n",
       "\t<tr><th scope=row>7</th><td>21</td><td>12.83778</td><td>1021</td></tr>\n",
       "\t<tr><th scope=row>8</th><td>15</td><td>17.51111</td><td> 990</td></tr>\n",
       "\t<tr><th scope=row>9</th><td>14</td><td>17.36000</td><td> 925</td></tr>\n",
       "\t<tr><th scope=row>10</th><td>22</td><td>12.25222</td><td> 897</td></tr>\n",
       "</tbody>\n",
       "</table>\n"
      ],
      "text/latex": [
       "A data.frame: 10 × 3\n",
       "\\begin{tabular}{r|lll}\n",
       "  & HOUR\\_\\_SPRING & AVG\\_TEMPERATURE & AVG\\_RENTED\\_BIKE\\_COUNT\\\\\n",
       "  & <int> & <dbl> & <int>\\\\\n",
       "\\hline\n",
       "\t1 & 18 & 15.97222 & 1689\\\\\n",
       "\t2 & 17 & 16.87889 & 1307\\\\\n",
       "\t3 & 19 & 14.67667 & 1247\\\\\n",
       "\t4 & 16 & 17.35889 & 1101\\\\\n",
       "\t5 & 20 & 13.57444 & 1060\\\\\n",
       "\t6 &  8 & 10.30778 & 1036\\\\\n",
       "\t7 & 21 & 12.83778 & 1021\\\\\n",
       "\t8 & 15 & 17.51111 &  990\\\\\n",
       "\t9 & 14 & 17.36000 &  925\\\\\n",
       "\t10 & 22 & 12.25222 &  897\\\\\n",
       "\\end{tabular}\n"
      ],
      "text/markdown": [
       "\n",
       "A data.frame: 10 × 3\n",
       "\n",
       "| <!--/--> | HOUR__SPRING &lt;int&gt; | AVG_TEMPERATURE &lt;dbl&gt; | AVG_RENTED_BIKE_COUNT &lt;int&gt; |\n",
       "|---|---|---|---|\n",
       "| 1 | 18 | 15.97222 | 1689 |\n",
       "| 2 | 17 | 16.87889 | 1307 |\n",
       "| 3 | 19 | 14.67667 | 1247 |\n",
       "| 4 | 16 | 17.35889 | 1101 |\n",
       "| 5 | 20 | 13.57444 | 1060 |\n",
       "| 6 |  8 | 10.30778 | 1036 |\n",
       "| 7 | 21 | 12.83778 | 1021 |\n",
       "| 8 | 15 | 17.51111 |  990 |\n",
       "| 9 | 14 | 17.36000 |  925 |\n",
       "| 10 | 22 | 12.25222 |  897 |\n",
       "\n"
      ],
      "text/plain": [
       "   HOUR__SPRING AVG_TEMPERATURE AVG_RENTED_BIKE_COUNT\n",
       "1  18           15.97222        1689                 \n",
       "2  17           16.87889        1307                 \n",
       "3  19           14.67667        1247                 \n",
       "4  16           17.35889        1101                 \n",
       "5  20           13.57444        1060                 \n",
       "6   8           10.30778        1036                 \n",
       "7  21           12.83778        1021                 \n",
       "8  15           17.51111         990                 \n",
       "9  14           17.36000         925                 \n",
       "10 22           12.25222         897                 "
      ]
     },
     "metadata": {},
     "output_type": "display_data"
    },
    {
     "data": {
      "text/html": [
       "<table>\n",
       "<caption>A data.frame: 10 × 3</caption>\n",
       "<thead>\n",
       "\t<tr><th></th><th scope=col>HOUR__SUMMER</th><th scope=col>AVG_TEMPERATURE</th><th scope=col>AVG_RENTED_BIKE_COUNT</th></tr>\n",
       "\t<tr><th></th><th scope=col>&lt;int&gt;</th><th scope=col>&lt;dbl&gt;</th><th scope=col>&lt;int&gt;</th></tr>\n",
       "</thead>\n",
       "<tbody>\n",
       "\t<tr><th scope=row>1</th><td>18</td><td>29.38696</td><td>2135</td></tr>\n",
       "\t<tr><th scope=row>2</th><td>19</td><td>28.27283</td><td>1889</td></tr>\n",
       "\t<tr><th scope=row>3</th><td>20</td><td>27.06630</td><td>1801</td></tr>\n",
       "\t<tr><th scope=row>4</th><td>21</td><td>26.27826</td><td>1754</td></tr>\n",
       "\t<tr><th scope=row>5</th><td>22</td><td>25.69891</td><td>1567</td></tr>\n",
       "\t<tr><th scope=row>6</th><td>17</td><td>30.07500</td><td>1526</td></tr>\n",
       "\t<tr><th scope=row>7</th><td> 8</td><td>24.53587</td><td>1418</td></tr>\n",
       "\t<tr><th scope=row>8</th><td>16</td><td>30.48804</td><td>1174</td></tr>\n",
       "\t<tr><th scope=row>9</th><td>23</td><td>25.23043</td><td>1153</td></tr>\n",
       "\t<tr><th scope=row>10</th><td>15</td><td>30.49022</td><td>1009</td></tr>\n",
       "</tbody>\n",
       "</table>\n"
      ],
      "text/latex": [
       "A data.frame: 10 × 3\n",
       "\\begin{tabular}{r|lll}\n",
       "  & HOUR\\_\\_SUMMER & AVG\\_TEMPERATURE & AVG\\_RENTED\\_BIKE\\_COUNT\\\\\n",
       "  & <int> & <dbl> & <int>\\\\\n",
       "\\hline\n",
       "\t1 & 18 & 29.38696 & 2135\\\\\n",
       "\t2 & 19 & 28.27283 & 1889\\\\\n",
       "\t3 & 20 & 27.06630 & 1801\\\\\n",
       "\t4 & 21 & 26.27826 & 1754\\\\\n",
       "\t5 & 22 & 25.69891 & 1567\\\\\n",
       "\t6 & 17 & 30.07500 & 1526\\\\\n",
       "\t7 &  8 & 24.53587 & 1418\\\\\n",
       "\t8 & 16 & 30.48804 & 1174\\\\\n",
       "\t9 & 23 & 25.23043 & 1153\\\\\n",
       "\t10 & 15 & 30.49022 & 1009\\\\\n",
       "\\end{tabular}\n"
      ],
      "text/markdown": [
       "\n",
       "A data.frame: 10 × 3\n",
       "\n",
       "| <!--/--> | HOUR__SUMMER &lt;int&gt; | AVG_TEMPERATURE &lt;dbl&gt; | AVG_RENTED_BIKE_COUNT &lt;int&gt; |\n",
       "|---|---|---|---|\n",
       "| 1 | 18 | 29.38696 | 2135 |\n",
       "| 2 | 19 | 28.27283 | 1889 |\n",
       "| 3 | 20 | 27.06630 | 1801 |\n",
       "| 4 | 21 | 26.27826 | 1754 |\n",
       "| 5 | 22 | 25.69891 | 1567 |\n",
       "| 6 | 17 | 30.07500 | 1526 |\n",
       "| 7 |  8 | 24.53587 | 1418 |\n",
       "| 8 | 16 | 30.48804 | 1174 |\n",
       "| 9 | 23 | 25.23043 | 1153 |\n",
       "| 10 | 15 | 30.49022 | 1009 |\n",
       "\n"
      ],
      "text/plain": [
       "   HOUR__SUMMER AVG_TEMPERATURE AVG_RENTED_BIKE_COUNT\n",
       "1  18           29.38696        2135                 \n",
       "2  19           28.27283        1889                 \n",
       "3  20           27.06630        1801                 \n",
       "4  21           26.27826        1754                 \n",
       "5  22           25.69891        1567                 \n",
       "6  17           30.07500        1526                 \n",
       "7   8           24.53587        1418                 \n",
       "8  16           30.48804        1174                 \n",
       "9  23           25.23043        1153                 \n",
       "10 15           30.49022        1009                 "
      ]
     },
     "metadata": {},
     "output_type": "display_data"
    },
    {
     "data": {
      "text/html": [
       "<table>\n",
       "<caption>A data.frame: 10 × 3</caption>\n",
       "<thead>\n",
       "\t<tr><th></th><th scope=col>HOUR__WINTER</th><th scope=col>AVG_TEMPERATURE</th><th scope=col>AVG_RENTED_BIKE_COUNT</th></tr>\n",
       "\t<tr><th></th><th scope=col>&lt;int&gt;</th><th scope=col>&lt;dbl&gt;</th><th scope=col>&lt;int&gt;</th></tr>\n",
       "</thead>\n",
       "<tbody>\n",
       "\t<tr><th scope=row>1</th><td>18</td><td>-0.8355556</td><td>438</td></tr>\n",
       "\t<tr><th scope=row>2</th><td> 8</td><td>-5.3266667</td><td>422</td></tr>\n",
       "\t<tr><th scope=row>3</th><td>17</td><td> 0.1400000</td><td>342</td></tr>\n",
       "\t<tr><th scope=row>4</th><td>16</td><td> 0.9822222</td><td>308</td></tr>\n",
       "\t<tr><th scope=row>5</th><td>19</td><td>-1.5166667</td><td>304</td></tr>\n",
       "\t<tr><th scope=row>6</th><td>15</td><td> 1.1666667</td><td>298</td></tr>\n",
       "\t<tr><th scope=row>7</th><td>14</td><td> 0.8711111</td><td>284</td></tr>\n",
       "\t<tr><th scope=row>8</th><td>13</td><td> 0.2166667</td><td>275</td></tr>\n",
       "\t<tr><th scope=row>9</th><td>12</td><td>-0.5666667</td><td>263</td></tr>\n",
       "\t<tr><th scope=row>10</th><td> 9</td><td>-4.8022222</td><td>254</td></tr>\n",
       "</tbody>\n",
       "</table>\n"
      ],
      "text/latex": [
       "A data.frame: 10 × 3\n",
       "\\begin{tabular}{r|lll}\n",
       "  & HOUR\\_\\_WINTER & AVG\\_TEMPERATURE & AVG\\_RENTED\\_BIKE\\_COUNT\\\\\n",
       "  & <int> & <dbl> & <int>\\\\\n",
       "\\hline\n",
       "\t1 & 18 & -0.8355556 & 438\\\\\n",
       "\t2 &  8 & -5.3266667 & 422\\\\\n",
       "\t3 & 17 &  0.1400000 & 342\\\\\n",
       "\t4 & 16 &  0.9822222 & 308\\\\\n",
       "\t5 & 19 & -1.5166667 & 304\\\\\n",
       "\t6 & 15 &  1.1666667 & 298\\\\\n",
       "\t7 & 14 &  0.8711111 & 284\\\\\n",
       "\t8 & 13 &  0.2166667 & 275\\\\\n",
       "\t9 & 12 & -0.5666667 & 263\\\\\n",
       "\t10 &  9 & -4.8022222 & 254\\\\\n",
       "\\end{tabular}\n"
      ],
      "text/markdown": [
       "\n",
       "A data.frame: 10 × 3\n",
       "\n",
       "| <!--/--> | HOUR__WINTER &lt;int&gt; | AVG_TEMPERATURE &lt;dbl&gt; | AVG_RENTED_BIKE_COUNT &lt;int&gt; |\n",
       "|---|---|---|---|\n",
       "| 1 | 18 | -0.8355556 | 438 |\n",
       "| 2 |  8 | -5.3266667 | 422 |\n",
       "| 3 | 17 |  0.1400000 | 342 |\n",
       "| 4 | 16 |  0.9822222 | 308 |\n",
       "| 5 | 19 | -1.5166667 | 304 |\n",
       "| 6 | 15 |  1.1666667 | 298 |\n",
       "| 7 | 14 |  0.8711111 | 284 |\n",
       "| 8 | 13 |  0.2166667 | 275 |\n",
       "| 9 | 12 | -0.5666667 | 263 |\n",
       "| 10 |  9 | -4.8022222 | 254 |\n",
       "\n"
      ],
      "text/plain": [
       "   HOUR__WINTER AVG_TEMPERATURE AVG_RENTED_BIKE_COUNT\n",
       "1  18           -0.8355556      438                  \n",
       "2   8           -5.3266667      422                  \n",
       "3  17            0.1400000      342                  \n",
       "4  16            0.9822222      308                  \n",
       "5  19           -1.5166667      304                  \n",
       "6  15            1.1666667      298                  \n",
       "7  14            0.8711111      284                  \n",
       "8  13            0.2166667      275                  \n",
       "9  12           -0.5666667      263                  \n",
       "10  9           -4.8022222      254                  "
      ]
     },
     "metadata": {},
     "output_type": "display_data"
    }
   ],
   "source": [
    "# provide your solution here\n",
    "query = \"SELECT  HOUR AS HOUR_Autumn, AVG(TEMPERATURE) AS AVG_TEMPERATURE, AVG (RENTED_BIKE_COUNT) AS AVG_RENTED_BIKE_COUNT FROM seoul_bike_sharing dataset\n",
    "         WHERE SEASONS=  'Autumn'\n",
    "         GROUP BY HOUR\n",
    "         ORDER BY AVG_RENTED_BIKE_COUNT DESC LIMIT 10\n",
    "        \n",
    "        \"\n",
    "    sqlQuery(conn,query)\n",
    "\n",
    "\n",
    "query = \"SELECT  HOUR AS HOUR__Spring, AVG(TEMPERATURE) AS AVG_TEMPERATURE, AVG (RENTED_BIKE_COUNT) AS AVG_RENTED_BIKE_COUNT FROM seoul_bike_sharing dataset\n",
    "         WHERE SEASONS=  'Spring'\n",
    "         GROUP BY HOUR\n",
    "         ORDER BY AVG_RENTED_BIKE_COUNT DESC LIMIT 10\n",
    "        \"\n",
    "    sqlQuery(conn,query)\n",
    "\n",
    "query = \"SELECT  HOUR AS HOUR__Summer, AVG(TEMPERATURE) AS AVG_TEMPERATURE, AVG (RENTED_BIKE_COUNT) AS AVG_RENTED_BIKE_COUNT FROM seoul_bike_sharing dataset\n",
    "         WHERE SEASONS=  'Summer'\n",
    "         GROUP BY HOUR\n",
    "         ORDER BY AVG_RENTED_BIKE_COUNT DESC LIMIT 10\n",
    "        \"\n",
    "    sqlQuery(conn,query)\n",
    "\n",
    "query = \"SELECT  HOUR AS HOUR__Winter, AVG(TEMPERATURE) AS AVG_TEMPERATURE, AVG (RENTED_BIKE_COUNT) AS AVG_RENTED_BIKE_COUNT FROM seoul_bike_sharing dataset\n",
    "         WHERE SEASONS=  'Winter'\n",
    "         GROUP BY HOUR\n",
    "         ORDER BY AVG_RENTED_BIKE_COUNT DESC LIMIT 10\n",
    "        \"\n",
    "    sqlQuery(conn,query)"
   ]
  },
  {
   "cell_type": "code",
   "execution_count": 13,
   "metadata": {},
   "outputs": [
    {
     "data": {
      "text/html": [
       "<table>\n",
       "<caption>A data.frame: 10 × 3</caption>\n",
       "<thead>\n",
       "\t<tr><th></th><th scope=col>HOUR__SUMMER</th><th scope=col>AVG_TEMPERATURE</th><th scope=col>AVG_RENTED_BIKE_COUNT</th></tr>\n",
       "\t<tr><th></th><th scope=col>&lt;int&gt;</th><th scope=col>&lt;dbl&gt;</th><th scope=col>&lt;int&gt;</th></tr>\n",
       "</thead>\n",
       "<tbody>\n",
       "\t<tr><th scope=row>1</th><td>18</td><td>29.38696</td><td>2135</td></tr>\n",
       "\t<tr><th scope=row>2</th><td>19</td><td>28.27283</td><td>1889</td></tr>\n",
       "\t<tr><th scope=row>3</th><td>20</td><td>27.06630</td><td>1801</td></tr>\n",
       "\t<tr><th scope=row>4</th><td>21</td><td>26.27826</td><td>1754</td></tr>\n",
       "\t<tr><th scope=row>5</th><td>22</td><td>25.69891</td><td>1567</td></tr>\n",
       "\t<tr><th scope=row>6</th><td>17</td><td>30.07500</td><td>1526</td></tr>\n",
       "\t<tr><th scope=row>7</th><td> 8</td><td>24.53587</td><td>1418</td></tr>\n",
       "\t<tr><th scope=row>8</th><td>16</td><td>30.48804</td><td>1174</td></tr>\n",
       "\t<tr><th scope=row>9</th><td>23</td><td>25.23043</td><td>1153</td></tr>\n",
       "\t<tr><th scope=row>10</th><td>15</td><td>30.49022</td><td>1009</td></tr>\n",
       "</tbody>\n",
       "</table>\n"
      ],
      "text/latex": [
       "A data.frame: 10 × 3\n",
       "\\begin{tabular}{r|lll}\n",
       "  & HOUR\\_\\_SUMMER & AVG\\_TEMPERATURE & AVG\\_RENTED\\_BIKE\\_COUNT\\\\\n",
       "  & <int> & <dbl> & <int>\\\\\n",
       "\\hline\n",
       "\t1 & 18 & 29.38696 & 2135\\\\\n",
       "\t2 & 19 & 28.27283 & 1889\\\\\n",
       "\t3 & 20 & 27.06630 & 1801\\\\\n",
       "\t4 & 21 & 26.27826 & 1754\\\\\n",
       "\t5 & 22 & 25.69891 & 1567\\\\\n",
       "\t6 & 17 & 30.07500 & 1526\\\\\n",
       "\t7 &  8 & 24.53587 & 1418\\\\\n",
       "\t8 & 16 & 30.48804 & 1174\\\\\n",
       "\t9 & 23 & 25.23043 & 1153\\\\\n",
       "\t10 & 15 & 30.49022 & 1009\\\\\n",
       "\\end{tabular}\n"
      ],
      "text/markdown": [
       "\n",
       "A data.frame: 10 × 3\n",
       "\n",
       "| <!--/--> | HOUR__SUMMER &lt;int&gt; | AVG_TEMPERATURE &lt;dbl&gt; | AVG_RENTED_BIKE_COUNT &lt;int&gt; |\n",
       "|---|---|---|---|\n",
       "| 1 | 18 | 29.38696 | 2135 |\n",
       "| 2 | 19 | 28.27283 | 1889 |\n",
       "| 3 | 20 | 27.06630 | 1801 |\n",
       "| 4 | 21 | 26.27826 | 1754 |\n",
       "| 5 | 22 | 25.69891 | 1567 |\n",
       "| 6 | 17 | 30.07500 | 1526 |\n",
       "| 7 |  8 | 24.53587 | 1418 |\n",
       "| 8 | 16 | 30.48804 | 1174 |\n",
       "| 9 | 23 | 25.23043 | 1153 |\n",
       "| 10 | 15 | 30.49022 | 1009 |\n",
       "\n"
      ],
      "text/plain": [
       "   HOUR__SUMMER AVG_TEMPERATURE AVG_RENTED_BIKE_COUNT\n",
       "1  18           29.38696        2135                 \n",
       "2  19           28.27283        1889                 \n",
       "3  20           27.06630        1801                 \n",
       "4  21           26.27826        1754                 \n",
       "5  22           25.69891        1567                 \n",
       "6  17           30.07500        1526                 \n",
       "7   8           24.53587        1418                 \n",
       "8  16           30.48804        1174                 \n",
       "9  23           25.23043        1153                 \n",
       "10 15           30.49022        1009                 "
      ]
     },
     "metadata": {},
     "output_type": "display_data"
    }
   ],
   "source": [
    "query = \"SELECT  HOUR AS HOUR__Summer, AVG(TEMPERATURE) AS AVG_TEMPERATURE, AVG (RENTED_BIKE_COUNT) AS AVG_RENTED_BIKE_COUNT FROM seoul_bike_sharing dataset\n",
    "         WHERE SEASONS=  'Summer'\n",
    "         GROUP BY HOUR\n",
    "         ORDER BY AVG_RENTED_BIKE_COUNT DESC LIMIT 10\n",
    "        \"\n",
    "    sqlQuery(conn,query)"
   ]
  },
  {
   "cell_type": "markdown",
   "metadata": {},
   "source": [
    "## Task 8 - Rental Seasonality\n",
    "#### Find the average hourly bike count during each season. \n",
    "Also include the minimum, maximum, and standard deviation of the hourly bike count for each season. \n"
   ]
  },
  {
   "cell_type": "markdown",
   "metadata": {},
   "source": [
    "### Solution 8\n"
   ]
  },
  {
   "cell_type": "code",
   "execution_count": 14,
   "metadata": {},
   "outputs": [
    {
     "data": {
      "text/html": [
       "<table>\n",
       "<caption>A data.frame: 4 × 5</caption>\n",
       "<thead>\n",
       "\t<tr><th></th><th scope=col>SEASONS</th><th scope=col>AVG_RENTED_BIKE_COUNT</th><th scope=col>MAX_RENTED_BIKE</th><th scope=col>MIN_RENTED_BIKE</th><th scope=col>STANDARD_DEVIATION</th></tr>\n",
       "\t<tr><th></th><th scope=col>&lt;fct&gt;</th><th scope=col>&lt;int&gt;</th><th scope=col>&lt;int&gt;</th><th scope=col>&lt;int&gt;</th><th scope=col>&lt;dbl&gt;</th></tr>\n",
       "</thead>\n",
       "<tbody>\n",
       "\t<tr><th scope=row>1</th><td>Autumn</td><td> 924</td><td>3298</td><td>2</td><td>617.3885</td></tr>\n",
       "\t<tr><th scope=row>2</th><td>Spring</td><td> 746</td><td>3251</td><td>2</td><td>618.5247</td></tr>\n",
       "\t<tr><th scope=row>3</th><td>Summer</td><td>1034</td><td>3556</td><td>9</td><td>690.0884</td></tr>\n",
       "\t<tr><th scope=row>4</th><td>Winter</td><td> 225</td><td> 937</td><td>3</td><td>150.3374</td></tr>\n",
       "</tbody>\n",
       "</table>\n"
      ],
      "text/latex": [
       "A data.frame: 4 × 5\n",
       "\\begin{tabular}{r|lllll}\n",
       "  & SEASONS & AVG\\_RENTED\\_BIKE\\_COUNT & MAX\\_RENTED\\_BIKE & MIN\\_RENTED\\_BIKE & STANDARD\\_DEVIATION\\\\\n",
       "  & <fct> & <int> & <int> & <int> & <dbl>\\\\\n",
       "\\hline\n",
       "\t1 & Autumn &  924 & 3298 & 2 & 617.3885\\\\\n",
       "\t2 & Spring &  746 & 3251 & 2 & 618.5247\\\\\n",
       "\t3 & Summer & 1034 & 3556 & 9 & 690.0884\\\\\n",
       "\t4 & Winter &  225 &  937 & 3 & 150.3374\\\\\n",
       "\\end{tabular}\n"
      ],
      "text/markdown": [
       "\n",
       "A data.frame: 4 × 5\n",
       "\n",
       "| <!--/--> | SEASONS &lt;fct&gt; | AVG_RENTED_BIKE_COUNT &lt;int&gt; | MAX_RENTED_BIKE &lt;int&gt; | MIN_RENTED_BIKE &lt;int&gt; | STANDARD_DEVIATION &lt;dbl&gt; |\n",
       "|---|---|---|---|---|---|\n",
       "| 1 | Autumn |  924 | 3298 | 2 | 617.3885 |\n",
       "| 2 | Spring |  746 | 3251 | 2 | 618.5247 |\n",
       "| 3 | Summer | 1034 | 3556 | 9 | 690.0884 |\n",
       "| 4 | Winter |  225 |  937 | 3 | 150.3374 |\n",
       "\n"
      ],
      "text/plain": [
       "  SEASONS AVG_RENTED_BIKE_COUNT MAX_RENTED_BIKE MIN_RENTED_BIKE\n",
       "1 Autumn   924                  3298            2              \n",
       "2 Spring   746                  3251            2              \n",
       "3 Summer  1034                  3556            9              \n",
       "4 Winter   225                   937            3              \n",
       "  STANDARD_DEVIATION\n",
       "1 617.3885          \n",
       "2 618.5247          \n",
       "3 690.0884          \n",
       "4 150.3374          "
      ]
     },
     "metadata": {},
     "output_type": "display_data"
    }
   ],
   "source": [
    "# provide your solution here\n",
    "query = \"SELECT   SEASONS,  AVG (RENTED_BIKE_COUNT) AS AVG_RENTED_BIKE_COUNT ,\n",
    "                   MAX(RENTED_BIKE_COUNT) AS Max_Rented_BIKE, \n",
    "                   MIN(RENTED_BIKE_COUNT) AS MIN_Rented_BIKE,\n",
    "                   STDDEV(RENTED_BIKE_COUNT) AS standard_Deviation\n",
    "\n",
    "                   FROM seoul_bike_sharing dataset\n",
    "                   GROUP BY SEASONS\n",
    "       \n",
    "        \"\n",
    "    sqlQuery(conn,query)"
   ]
  },
  {
   "cell_type": "markdown",
   "metadata": {},
   "source": [
    "Let's explore a bit and see what might be the most significant contributing factors in terms of the provided data.\n"
   ]
  },
  {
   "cell_type": "markdown",
   "metadata": {},
   "source": [
    "## Task 9 - Weather Seasonality\n",
    "#### Consider the weather over each season. On average, what were the TEMPERATURE, HUMIDITY, WIND_SPEED, VISIBILITY, DEW_POINT_TEMPERATURE, SOLAR_RADIATION, RAINFALL, and SNOWFALL per season?\n",
    "Include the average bike count as well , and rank the results by average bike count so you can see if it is correlated with the weather at all. \n"
   ]
  },
  {
   "cell_type": "markdown",
   "metadata": {},
   "source": [
    "### Solution 9\n"
   ]
  },
  {
   "cell_type": "code",
   "execution_count": 15,
   "metadata": {},
   "outputs": [
    {
     "data": {
      "text/html": [
       "<table>\n",
       "<caption>A data.frame: 4 × 10</caption>\n",
       "<thead>\n",
       "\t<tr><th></th><th scope=col>SEASONS</th><th scope=col>AVG_RENTED_BIKE_COUNT</th><th scope=col>AVG_TEMPERATURE</th><th scope=col>AVG_HUMIDITY</th><th scope=col>AVG_WIND_SPEED</th><th scope=col>AVG_VISIBILITY</th><th scope=col>AVG_DEW_POINT_TEMPERATURE</th><th scope=col>AVG_SOLAR_RADIATION</th><th scope=col>AVG_RAINFALL</th><th scope=col>AVG_SNOWFALL</th></tr>\n",
       "\t<tr><th></th><th scope=col>&lt;fct&gt;</th><th scope=col>&lt;int&gt;</th><th scope=col>&lt;dbl&gt;</th><th scope=col>&lt;int&gt;</th><th scope=col>&lt;dbl&gt;</th><th scope=col>&lt;int&gt;</th><th scope=col>&lt;dbl&gt;</th><th scope=col>&lt;dbl&gt;</th><th scope=col>&lt;dbl&gt;</th><th scope=col>&lt;dbl&gt;</th></tr>\n",
       "</thead>\n",
       "<tbody>\n",
       "\t<tr><th scope=row>1</th><td>Autumn</td><td> 924</td><td>13.821167</td><td>59</td><td>1.492101</td><td>1558</td><td>  5.150594</td><td>0.5227827</td><td>0.11765617</td><td>0.06350026</td></tr>\n",
       "\t<tr><th scope=row>2</th><td>Spring</td><td> 746</td><td>13.021389</td><td>58</td><td>1.857778</td><td>1240</td><td>  4.091389</td><td>0.6803009</td><td>0.18694444</td><td>0.00000000</td></tr>\n",
       "\t<tr><th scope=row>3</th><td>Summer</td><td>1034</td><td>26.587274</td><td>64</td><td>1.609420</td><td>1501</td><td> 18.750136</td><td>0.7612545</td><td>0.25348732</td><td>0.00000000</td></tr>\n",
       "\t<tr><th scope=row>4</th><td>Winter</td><td> 225</td><td>-2.540463</td><td>49</td><td>1.922685</td><td>1445</td><td>-12.416667</td><td>0.2981806</td><td>0.03282407</td><td>0.24750000</td></tr>\n",
       "</tbody>\n",
       "</table>\n"
      ],
      "text/latex": [
       "A data.frame: 4 × 10\n",
       "\\begin{tabular}{r|llllllllll}\n",
       "  & SEASONS & AVG\\_RENTED\\_BIKE\\_COUNT & AVG\\_TEMPERATURE & AVG\\_HUMIDITY & AVG\\_WIND\\_SPEED & AVG\\_VISIBILITY & AVG\\_DEW\\_POINT\\_TEMPERATURE & AVG\\_SOLAR\\_RADIATION & AVG\\_RAINFALL & AVG\\_SNOWFALL\\\\\n",
       "  & <fct> & <int> & <dbl> & <int> & <dbl> & <int> & <dbl> & <dbl> & <dbl> & <dbl>\\\\\n",
       "\\hline\n",
       "\t1 & Autumn &  924 & 13.821167 & 59 & 1.492101 & 1558 &   5.150594 & 0.5227827 & 0.11765617 & 0.06350026\\\\\n",
       "\t2 & Spring &  746 & 13.021389 & 58 & 1.857778 & 1240 &   4.091389 & 0.6803009 & 0.18694444 & 0.00000000\\\\\n",
       "\t3 & Summer & 1034 & 26.587274 & 64 & 1.609420 & 1501 &  18.750136 & 0.7612545 & 0.25348732 & 0.00000000\\\\\n",
       "\t4 & Winter &  225 & -2.540463 & 49 & 1.922685 & 1445 & -12.416667 & 0.2981806 & 0.03282407 & 0.24750000\\\\\n",
       "\\end{tabular}\n"
      ],
      "text/markdown": [
       "\n",
       "A data.frame: 4 × 10\n",
       "\n",
       "| <!--/--> | SEASONS &lt;fct&gt; | AVG_RENTED_BIKE_COUNT &lt;int&gt; | AVG_TEMPERATURE &lt;dbl&gt; | AVG_HUMIDITY &lt;int&gt; | AVG_WIND_SPEED &lt;dbl&gt; | AVG_VISIBILITY &lt;int&gt; | AVG_DEW_POINT_TEMPERATURE &lt;dbl&gt; | AVG_SOLAR_RADIATION &lt;dbl&gt; | AVG_RAINFALL &lt;dbl&gt; | AVG_SNOWFALL &lt;dbl&gt; |\n",
       "|---|---|---|---|---|---|---|---|---|---|---|\n",
       "| 1 | Autumn |  924 | 13.821167 | 59 | 1.492101 | 1558 |   5.150594 | 0.5227827 | 0.11765617 | 0.06350026 |\n",
       "| 2 | Spring |  746 | 13.021389 | 58 | 1.857778 | 1240 |   4.091389 | 0.6803009 | 0.18694444 | 0.00000000 |\n",
       "| 3 | Summer | 1034 | 26.587274 | 64 | 1.609420 | 1501 |  18.750136 | 0.7612545 | 0.25348732 | 0.00000000 |\n",
       "| 4 | Winter |  225 | -2.540463 | 49 | 1.922685 | 1445 | -12.416667 | 0.2981806 | 0.03282407 | 0.24750000 |\n",
       "\n"
      ],
      "text/plain": [
       "  SEASONS AVG_RENTED_BIKE_COUNT AVG_TEMPERATURE AVG_HUMIDITY AVG_WIND_SPEED\n",
       "1 Autumn   924                  13.821167       59           1.492101      \n",
       "2 Spring   746                  13.021389       58           1.857778      \n",
       "3 Summer  1034                  26.587274       64           1.609420      \n",
       "4 Winter   225                  -2.540463       49           1.922685      \n",
       "  AVG_VISIBILITY AVG_DEW_POINT_TEMPERATURE AVG_SOLAR_RADIATION AVG_RAINFALL\n",
       "1 1558             5.150594                0.5227827           0.11765617  \n",
       "2 1240             4.091389                0.6803009           0.18694444  \n",
       "3 1501            18.750136                0.7612545           0.25348732  \n",
       "4 1445           -12.416667                0.2981806           0.03282407  \n",
       "  AVG_SNOWFALL\n",
       "1 0.06350026  \n",
       "2 0.00000000  \n",
       "3 0.00000000  \n",
       "4 0.24750000  "
      ]
     },
     "metadata": {},
     "output_type": "display_data"
    }
   ],
   "source": [
    "query = \"SELECT  SEASONS,\n",
    "                 AVG(RENTED_BIKE_COUNT) AS AVG_RENTED_BIKE_COUNT,\n",
    "                 AVG(TEMPERATURE) AS AVG_TEMPERATURE, \n",
    "                 AVG(HUMIDITY) AS AVG_HUMIDITY, \n",
    "                 AVG(WIND_SPEED) AS AVG_WIND_SPEED,\n",
    "                 AVG(VISIBILITY) AS AVG_VISIBILITY, \n",
    "                 AVG(DEW_POINT_TEMPERATURE) AS AVG_DEW_POINT_TEMPERATURE, \n",
    "                 AVG(SOLAR_RADIATION) AS AVG_SOLAR_RADIATION, \n",
    "                 AVG(RAINFALL) AS AVG_RAINFALL, \n",
    "                 AVG(SNOWFALL) AS AVG_SNOWFALL \n",
    "        FROM seoul_bike_sharing dataset\n",
    "        GROUP BY SEASONS\n",
    "         \n",
    "        \"\n",
    "    sqlQuery(conn,query)"
   ]
  },
  {
   "cell_type": "markdown",
   "metadata": {},
   "source": [
    "## Task 10 - Total Bike Count and City Info for Seoul\n",
    "#### Use an implicit join across the WORLD_CITIES and the BIKE_SHARING_SYSTEMS tables to determine the total number of bikes avaialble in Seoul, plus the following city information about Seoul: CITY, COUNTRY, LAT, LON, POPULATION, in a single view.\n",
    "Notice that in this case, the CITY column will work for the WORLD_CITIES table, but in general you would have to use the CITY_ASCII column.\n"
   ]
  },
  {
   "cell_type": "markdown",
   "metadata": {},
   "source": [
    "### Solution 10\n"
   ]
  },
  {
   "cell_type": "code",
   "execution_count": 16,
   "metadata": {},
   "outputs": [
    {
     "data": {
      "text/html": [
       "<table>\n",
       "<caption>A data.frame: 1 × 6</caption>\n",
       "<thead>\n",
       "\t<tr><th></th><th scope=col>CITY</th><th scope=col>COUNTRY</th><th scope=col>LAT</th><th scope=col>LNG</th><th scope=col>POPULATION</th><th scope=col>BICYCLES</th></tr>\n",
       "\t<tr><th></th><th scope=col>&lt;fct&gt;</th><th scope=col>&lt;fct&gt;</th><th scope=col>&lt;dbl&gt;</th><th scope=col>&lt;dbl&gt;</th><th scope=col>&lt;int&gt;</th><th scope=col>&lt;int&gt;</th></tr>\n",
       "</thead>\n",
       "<tbody>\n",
       "\t<tr><th scope=row>1</th><td>Seoul</td><td>Korea, South</td><td>37.58</td><td>127</td><td>21794000</td><td>20000</td></tr>\n",
       "</tbody>\n",
       "</table>\n"
      ],
      "text/latex": [
       "A data.frame: 1 × 6\n",
       "\\begin{tabular}{r|llllll}\n",
       "  & CITY & COUNTRY & LAT & LNG & POPULATION & BICYCLES\\\\\n",
       "  & <fct> & <fct> & <dbl> & <dbl> & <int> & <int>\\\\\n",
       "\\hline\n",
       "\t1 & Seoul & Korea, South & 37.58 & 127 & 21794000 & 20000\\\\\n",
       "\\end{tabular}\n"
      ],
      "text/markdown": [
       "\n",
       "A data.frame: 1 × 6\n",
       "\n",
       "| <!--/--> | CITY &lt;fct&gt; | COUNTRY &lt;fct&gt; | LAT &lt;dbl&gt; | LNG &lt;dbl&gt; | POPULATION &lt;int&gt; | BICYCLES &lt;int&gt; |\n",
       "|---|---|---|---|---|---|---|\n",
       "| 1 | Seoul | Korea, South | 37.58 | 127 | 21794000 | 20000 |\n",
       "\n"
      ],
      "text/plain": [
       "  CITY  COUNTRY      LAT   LNG POPULATION BICYCLES\n",
       "1 Seoul Korea, South 37.58 127 21794000   20000   "
      ]
     },
     "metadata": {},
     "output_type": "display_data"
    }
   ],
   "source": [
    "# provide your solution here\n",
    "query = \"SELECT  B.CITY, W.COUNTRY, W.LAT, W.LNG, W.POPULATION,  B.BICYCLES FROM BIKE_SHARING_SYSTEMS B,  WORLD_CITIES W\n",
    "         WHERE B.CITY=W.CITY_ASCII AND B.CITY='Seoul'\n",
    "\"\n",
    "    sqlQuery(conn,query)"
   ]
  },
  {
   "cell_type": "markdown",
   "metadata": {},
   "source": [
    "## Task 11 - Find all city names and coordinates with comparable bike scale to Seoul's bike sharing system\n",
    "#### Find all cities with total bike counts between 15000 and 20000. Return the city and country names, plus the coordinates (LAT, LNG), population, and number of bicycles for each city.\n",
    "Later we will ask you to visualize these similar cities on leaflet, with some weather data.\n"
   ]
  },
  {
   "cell_type": "markdown",
   "metadata": {},
   "source": [
    "### Solution 11\n"
   ]
  },
  {
   "cell_type": "code",
   "execution_count": 17,
   "metadata": {},
   "outputs": [
    {
     "data": {
      "text/html": [
       "<table>\n",
       "<caption>A data.frame: 7 × 6</caption>\n",
       "<thead>\n",
       "\t<tr><th></th><th scope=col>CITY</th><th scope=col>COUNTRY</th><th scope=col>LAT</th><th scope=col>LNG</th><th scope=col>POPULATION</th><th scope=col>BICYCLES</th></tr>\n",
       "\t<tr><th></th><th scope=col>&lt;fct&gt;</th><th scope=col>&lt;fct&gt;</th><th scope=col>&lt;dbl&gt;</th><th scope=col>&lt;dbl&gt;</th><th scope=col>&lt;int&gt;</th><th scope=col>&lt;int&gt;</th></tr>\n",
       "</thead>\n",
       "<tbody>\n",
       "\t<tr><th scope=row>1</th><td>Seoul   </td><td>Korea, South</td><td>37.58</td><td>127.00</td><td>21794000</td><td>20000</td></tr>\n",
       "\t<tr><th scope=row>2</th><td>Weifang </td><td>China       </td><td>36.71</td><td>119.10</td><td> 9373000</td><td>20000</td></tr>\n",
       "\t<tr><th scope=row>3</th><td>Xi'an   </td><td>China       </td><td>34.26</td><td>108.90</td><td> 7135000</td><td>20000</td></tr>\n",
       "\t<tr><th scope=row>4</th><td>Zhuzhou </td><td>China       </td><td>27.84</td><td>113.14</td><td> 3855609</td><td>20000</td></tr>\n",
       "\t<tr><th scope=row>5</th><td>Shanghai</td><td>China       </td><td>31.16</td><td>121.46</td><td>22120000</td><td>19165</td></tr>\n",
       "\t<tr><th scope=row>6</th><td>Beijing </td><td>China       </td><td>39.90</td><td>116.39</td><td>19433000</td><td>16000</td></tr>\n",
       "\t<tr><th scope=row>7</th><td>Ningbo  </td><td>China       </td><td>29.87</td><td>121.54</td><td> 7639000</td><td>15000</td></tr>\n",
       "</tbody>\n",
       "</table>\n"
      ],
      "text/latex": [
       "A data.frame: 7 × 6\n",
       "\\begin{tabular}{r|llllll}\n",
       "  & CITY & COUNTRY & LAT & LNG & POPULATION & BICYCLES\\\\\n",
       "  & <fct> & <fct> & <dbl> & <dbl> & <int> & <int>\\\\\n",
       "\\hline\n",
       "\t1 & Seoul    & Korea, South & 37.58 & 127.00 & 21794000 & 20000\\\\\n",
       "\t2 & Weifang  & China        & 36.71 & 119.10 &  9373000 & 20000\\\\\n",
       "\t3 & Xi'an    & China        & 34.26 & 108.90 &  7135000 & 20000\\\\\n",
       "\t4 & Zhuzhou  & China        & 27.84 & 113.14 &  3855609 & 20000\\\\\n",
       "\t5 & Shanghai & China        & 31.16 & 121.46 & 22120000 & 19165\\\\\n",
       "\t6 & Beijing  & China        & 39.90 & 116.39 & 19433000 & 16000\\\\\n",
       "\t7 & Ningbo   & China        & 29.87 & 121.54 &  7639000 & 15000\\\\\n",
       "\\end{tabular}\n"
      ],
      "text/markdown": [
       "\n",
       "A data.frame: 7 × 6\n",
       "\n",
       "| <!--/--> | CITY &lt;fct&gt; | COUNTRY &lt;fct&gt; | LAT &lt;dbl&gt; | LNG &lt;dbl&gt; | POPULATION &lt;int&gt; | BICYCLES &lt;int&gt; |\n",
       "|---|---|---|---|---|---|---|\n",
       "| 1 | Seoul    | Korea, South | 37.58 | 127.00 | 21794000 | 20000 |\n",
       "| 2 | Weifang  | China        | 36.71 | 119.10 |  9373000 | 20000 |\n",
       "| 3 | Xi'an    | China        | 34.26 | 108.90 |  7135000 | 20000 |\n",
       "| 4 | Zhuzhou  | China        | 27.84 | 113.14 |  3855609 | 20000 |\n",
       "| 5 | Shanghai | China        | 31.16 | 121.46 | 22120000 | 19165 |\n",
       "| 6 | Beijing  | China        | 39.90 | 116.39 | 19433000 | 16000 |\n",
       "| 7 | Ningbo   | China        | 29.87 | 121.54 |  7639000 | 15000 |\n",
       "\n"
      ],
      "text/plain": [
       "  CITY     COUNTRY      LAT   LNG    POPULATION BICYCLES\n",
       "1 Seoul    Korea, South 37.58 127.00 21794000   20000   \n",
       "2 Weifang  China        36.71 119.10  9373000   20000   \n",
       "3 Xi'an    China        34.26 108.90  7135000   20000   \n",
       "4 Zhuzhou  China        27.84 113.14  3855609   20000   \n",
       "5 Shanghai China        31.16 121.46 22120000   19165   \n",
       "6 Beijing  China        39.90 116.39 19433000   16000   \n",
       "7 Ningbo   China        29.87 121.54  7639000   15000   "
      ]
     },
     "metadata": {},
     "output_type": "display_data"
    }
   ],
   "source": [
    "# provide your solution here\n",
    "query = \" WITH comparable_cities AS\n",
    "         (\n",
    "         SELECT  B.CITY, W.COUNTRY, W.LAT, W.LNG, W.POPULATION,  B.BICYCLES AS BICYCLES \n",
    "         FROM BIKE_SHARING_SYSTEMS B,  WORLD_CITIES W\n",
    "         WHERE   B.CITY=W.CITY_ASCII AND BICYCLES != 'NA'\n",
    "        )\n",
    "\n",
    "       SELECT *\n",
    "       FROM comparable_cities\n",
    "       WHERE BICYCLES BETWEEN 15000 AND 20000\n",
    "       ORDER BY BICYCLES DESC\n",
    "         \n",
    "\"\n",
    "    sqlQuery(conn,query)"
   ]
  },
  {
   "cell_type": "code",
   "execution_count": 18,
   "metadata": {},
   "outputs": [
    {
     "data": {
      "text/html": [
       "<table>\n",
       "<caption>A data.frame: 7 × 2</caption>\n",
       "<thead>\n",
       "\t<tr><th></th><th scope=col>CITY</th><th scope=col>BICYCLES</th></tr>\n",
       "\t<tr><th></th><th scope=col>&lt;fct&gt;</th><th scope=col>&lt;int&gt;</th></tr>\n",
       "</thead>\n",
       "<tbody>\n",
       "\t<tr><th scope=row>1</th><td>Seoul   </td><td>20000</td></tr>\n",
       "\t<tr><th scope=row>2</th><td>Weifang </td><td>20000</td></tr>\n",
       "\t<tr><th scope=row>3</th><td>Xi'an   </td><td>20000</td></tr>\n",
       "\t<tr><th scope=row>4</th><td>Zhuzhou </td><td>20000</td></tr>\n",
       "\t<tr><th scope=row>5</th><td>Shanghai</td><td>19165</td></tr>\n",
       "\t<tr><th scope=row>6</th><td>Beijing </td><td>16000</td></tr>\n",
       "\t<tr><th scope=row>7</th><td>Ningbo  </td><td>15000</td></tr>\n",
       "</tbody>\n",
       "</table>\n"
      ],
      "text/latex": [
       "A data.frame: 7 × 2\n",
       "\\begin{tabular}{r|ll}\n",
       "  & CITY & BICYCLES\\\\\n",
       "  & <fct> & <int>\\\\\n",
       "\\hline\n",
       "\t1 & Seoul    & 20000\\\\\n",
       "\t2 & Weifang  & 20000\\\\\n",
       "\t3 & Xi'an    & 20000\\\\\n",
       "\t4 & Zhuzhou  & 20000\\\\\n",
       "\t5 & Shanghai & 19165\\\\\n",
       "\t6 & Beijing  & 16000\\\\\n",
       "\t7 & Ningbo   & 15000\\\\\n",
       "\\end{tabular}\n"
      ],
      "text/markdown": [
       "\n",
       "A data.frame: 7 × 2\n",
       "\n",
       "| <!--/--> | CITY &lt;fct&gt; | BICYCLES &lt;int&gt; |\n",
       "|---|---|---|\n",
       "| 1 | Seoul    | 20000 |\n",
       "| 2 | Weifang  | 20000 |\n",
       "| 3 | Xi'an    | 20000 |\n",
       "| 4 | Zhuzhou  | 20000 |\n",
       "| 5 | Shanghai | 19165 |\n",
       "| 6 | Beijing  | 16000 |\n",
       "| 7 | Ningbo   | 15000 |\n",
       "\n"
      ],
      "text/plain": [
       "  CITY     BICYCLES\n",
       "1 Seoul    20000   \n",
       "2 Weifang  20000   \n",
       "3 Xi'an    20000   \n",
       "4 Zhuzhou  20000   \n",
       "5 Shanghai 19165   \n",
       "6 Beijing  16000   \n",
       "7 Ningbo   15000   "
      ]
     },
     "metadata": {},
     "output_type": "display_data"
    }
   ],
   "source": [
    "query = \" WITH comparable_cities AS\n",
    "         (\n",
    "         SELECT  B.CITY, W.COUNTRY, W.LAT, W.LNG, W.POPULATION,  B.BICYCLES AS BICYCLES \n",
    "         FROM BIKE_SHARING_SYSTEMS B,  WORLD_CITIES W\n",
    "         WHERE   B.CITY=W.CITY_ASCII AND BICYCLES != 'NA'\n",
    "        )\n",
    "\n",
    "       SELECT CITY,  SUM(BICYCLES)  AS BICYCLES\n",
    "       FROM comparable_cities\n",
    "       GROUP BY CITY \n",
    "       HAVING  SUM(BICYCLES) BETWEEN 15000 AND 20000\n",
    "       ORDER BY BICYCLES DESC\n",
    "         \n",
    "\"\n",
    "    sqlQuery(conn,query)"
   ]
  },
  {
   "cell_type": "code",
   "execution_count": 19,
   "metadata": {},
   "outputs": [],
   "source": [
    "close(conn)"
   ]
  },
  {
   "cell_type": "markdown",
   "metadata": {},
   "source": [
    "## Author(s)\n",
    "\n",
    "<h4> Jeff Grossman </h4>\n",
    "\n",
    "## Contributor(s)\n",
    "\n",
    "<h4> Yan Luo, Rav Ahuja </h4>\n",
    "\n",
    "## Change log\n",
    "\n",
    "| Date       | Version | Changed by    | Change Description                                                                |\n",
    "| ---------- | ------- | ------------- | --------------------------------------------------------------------------------- |\n",
    "| 2021-05-04 | 0.2     | Jeff Grossman | Finalize                               |\n",
    "| 2021-04-22 | 0.2     | Jeff Grossman | Update as per peer review                               |\n",
    "| 2021-04-10 | 0.2     | Jeff Grossman | Add data sources and implicit joins                                  |\n",
    "| 2021-04-05 | 0.1     | Jeff Grossman | Start content creation                                                          |\n",
    "\n",
    "\n",
    "## <h3 align=\"center\"> © IBM Corporation 2021. All rights reserved. <h3/>\n"
   ]
  },
  {
   "cell_type": "code",
   "execution_count": null,
   "metadata": {},
   "outputs": [],
   "source": []
  }
 ],
 "metadata": {
  "kernelspec": {
   "display_name": "R",
   "language": "R",
   "name": "conda-env-r-r"
  },
  "language_info": {
   "codemirror_mode": "r",
   "file_extension": ".r",
   "mimetype": "text/x-r-source",
   "name": "R",
   "pygments_lexer": "r",
   "version": "3.5.1"
  }
 },
 "nbformat": 4,
 "nbformat_minor": 4
}
